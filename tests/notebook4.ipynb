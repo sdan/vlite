{
 "cells": [
  {
   "cell_type": "code",
   "execution_count": null,
   "metadata": {},
   "outputs": [],
   "source": [
    "# import vlite from local path\n",
    "import sys\n",
    "sys.path.insert(0, '..')\n",
    "from vlite import VLite\n",
    "from vlite import EmbeddingModel\n",
    "from vlite.utils import process_file, process_pdf, process_webpage\n",
    "\n",
    "\n",
    "vdb = VLite(\"testing9\")\n",
    "emd = EmbeddingModel()\n",
    "corpus = process_file(\"data/attention.pdf\")\n",
    "print(f\"Corpus: {corpus}\")\n",
    "print(f\"Corpus len: {len(corpus)}\")\n",
    "vdb.add(corpus)\n",
    "input=[\n",
    "        'Who is german and likes bread?',\n",
    "        'Everybody in Germany.'\n",
    "    ]\n",
    "for query in input:\n",
    "    res = vdb.retrieve(query)\n",
    "    print(f\"Query: {query} - Result: {res}\")"
   ]
  },
  {
   "cell_type": "code",
   "execution_count": null,
   "metadata": {},
   "outputs": [],
   "source": [
    "vdb = VLite(\"testing9\")\n",
    "vdb.retrieve(\"Who is german and likes bread?\")"
   ]
  },
  {
   "cell_type": "code",
   "execution_count": 1,
   "metadata": {},
   "outputs": [
    {
     "name": "stderr",
     "output_type": "stream",
     "text": [
      "/Users/sdan/miniforge3/lib/python3.10/site-packages/tqdm/auto.py:21: TqdmWarning: IProgress not found. Please update jupyter and ipywidgets. See https://ipywidgets.readthedocs.io/en/stable/user_install.html\n",
      "  from .autonotebook import tqdm as notebook_tqdm\n"
     ]
    },
    {
     "name": "stdout",
     "output_type": "stream",
     "text": [
      "welcome to VLite 7.1.2\n"
     ]
    },
    {
     "name": "stderr",
     "output_type": "stream",
     "text": [
      "2024-04-17 01:36:56,344 - WARNING - [VLite.__init__] Collection file testing16 is empty.\n"
     ]
    },
    {
     "name": "stdout",
     "output_type": "stream",
     "text": [
      "LOADING call\n",
      "shape of binary_encoded_data (20, 64)\n",
      "LOADING call\n",
      "[save] size of embeddings 64\n",
      "Number of embeddings to save:  20\n",
      "Number of metadata keys to save:  20\n",
      "[save] size of embeddings 64\n",
      "[save] size of embeddings 64\n",
      "[save] size of embeddings 64\n",
      "[save] size of embeddings 64\n",
      "[save] size of embeddings 64\n",
      "[save] size of embeddings 64\n",
      "[save] size of embeddings 64\n",
      "[save] size of embeddings 64\n",
      "[save] size of embeddings 64\n",
      "[save] size of embeddings 64\n",
      "[save] size of embeddings 64\n",
      "[save] size of embeddings 64\n",
      "[save] size of embeddings 64\n",
      "[save] size of embeddings 64\n",
      "[save] size of embeddings 64\n",
      "[save] size of embeddings 64\n",
      "[save] size of embeddings 64\n",
      "[save] size of embeddings 64\n",
      "[save] size of embeddings 64\n",
      "[save] size of embeddings 64\n",
      "index {'5ed0f04f-b5ca-4d23-9d3f-2ec2b8818db1_0': {'text': 'Who is german and likes bread?', 'metadata': {}, 'binary_vector': [-41, -118, -100, -145, -214, -256, -198, -50, -142, -124, -197, -205, -147, -44, -251, -67, -215, -39, -156, -120, -41, -208, -223, -167, -10, -5, -94, -42, -48, -37, -11, -156, -21, -160, -229, -129, -27, -49, -84, -227, -108, -186, -153, -37, -138, -175, -252, -214, -176, -248, -193, -201, -9, -226, -118, -19, -211, -217, -36, -195, -120, -86, -6, -213]}, '5ed0f04f-b5ca-4d23-9d3f-2ec2b8818db1_1': {'text': 'Everybody in Germany.', 'metadata': {}, 'binary_vector': [-46, -88, -120, -132, -246, -218, -202, -62, -150, -234, -229, -5, -163, -40, -203, -15, -127, -179, -170, -179, -6, -33, -201, -126, -172, -5, -194, -58, -40, -54, -218, -227, -186, -40, -241, -132, -235, -50, -3, -227, -94, -252, -29, -109, -170, -45, -220, -145, -142, -118, -129, -225, -67, -114, -120, -183, -210, -10, -36, -155, -256, -141, -52, -254]}, '5ed0f04f-b5ca-4d23-9d3f-2ec2b8818db1_2': {'text': 'Who is german and likes bread?', 'metadata': {}, 'binary_vector': [-41, -118, -100, -145, -214, -256, -198, -50, -142, -124, -197, -205, -147, -44, -251, -67, -215, -39, -156, -120, -41, -208, -223, -167, -10, -5, -94, -42, -48, -37, -11, -156, -21, -160, -229, -129, -27, -49, -84, -227, -108, -186, -153, -37, -138, -175, -252, -214, -176, -248, -193, -201, -9, -226, -118, -19, -211, -217, -36, -195, -120, -86, -6, -213]}, '5ed0f04f-b5ca-4d23-9d3f-2ec2b8818db1_3': {'text': 'Everybody in Germany.', 'metadata': {}, 'binary_vector': [-46, -88, -120, -132, -246, -218, -202, -62, -150, -234, -229, -5, -163, -40, -203, -15, -127, -179, -170, -179, -6, -33, -201, -126, -172, -5, -194, -58, -40, -54, -218, -227, -186, -40, -241, -132, -235, -50, -3, -227, -94, -252, -29, -109, -170, -45, -220, -145, -142, -118, -129, -225, -67, -114, -120, -183, -210, -10, -36, -155, -256, -141, -52, -254]}, '5ed0f04f-b5ca-4d23-9d3f-2ec2b8818db1_4': {'text': 'Who is german and likes bread?', 'metadata': {}, 'binary_vector': [-41, -118, -100, -145, -214, -256, -198, -50, -142, -124, -197, -205, -147, -44, -251, -67, -215, -39, -156, -120, -41, -208, -223, -167, -10, -5, -94, -42, -48, -37, -11, -156, -21, -160, -229, -129, -27, -49, -84, -227, -108, -186, -153, -37, -138, -175, -252, -214, -176, -248, -193, -201, -9, -226, -118, -19, -211, -217, -36, -195, -120, -86, -6, -213]}, '5ed0f04f-b5ca-4d23-9d3f-2ec2b8818db1_5': {'text': 'Everybody in Germany.', 'metadata': {}, 'binary_vector': [-46, -88, -120, -132, -246, -218, -202, -62, -150, -234, -229, -5, -163, -40, -203, -15, -127, -179, -170, -179, -6, -33, -201, -126, -172, -5, -194, -58, -40, -54, -218, -227, -186, -40, -241, -132, -235, -50, -3, -227, -94, -252, -29, -109, -170, -45, -220, -145, -142, -118, -129, -225, -67, -114, -120, -183, -210, -10, -36, -155, -256, -141, -52, -254]}, '5ed0f04f-b5ca-4d23-9d3f-2ec2b8818db1_6': {'text': 'Who is german and likes bread?', 'metadata': {}, 'binary_vector': [-41, -118, -100, -145, -214, -256, -198, -50, -142, -124, -197, -205, -147, -44, -251, -67, -215, -39, -156, -120, -41, -208, -223, -167, -10, -5, -94, -42, -48, -37, -11, -156, -21, -160, -229, -129, -27, -49, -84, -227, -108, -186, -153, -37, -138, -175, -252, -214, -176, -248, -193, -201, -9, -226, -118, -19, -211, -217, -36, -195, -120, -86, -6, -213]}, '5ed0f04f-b5ca-4d23-9d3f-2ec2b8818db1_7': {'text': 'Everybody in Germany.', 'metadata': {}, 'binary_vector': [-46, -88, -120, -132, -246, -218, -202, -62, -150, -234, -229, -5, -163, -40, -203, -15, -127, -179, -170, -179, -6, -33, -201, -126, -172, -5, -194, -58, -40, -54, -218, -227, -186, -40, -241, -132, -235, -50, -3, -227, -94, -252, -29, -109, -170, -45, -220, -145, -142, -118, -129, -225, -67, -114, -120, -183, -210, -10, -36, -155, -256, -141, -52, -254]}, '5ed0f04f-b5ca-4d23-9d3f-2ec2b8818db1_8': {'text': 'Who is german and likes bread?', 'metadata': {}, 'binary_vector': [-41, -118, -100, -145, -214, -256, -198, -50, -142, -124, -197, -205, -147, -44, -251, -67, -215, -39, -156, -120, -41, -208, -223, -167, -10, -5, -94, -42, -48, -37, -11, -156, -21, -160, -229, -129, -27, -49, -84, -227, -108, -186, -153, -37, -138, -175, -252, -214, -176, -248, -193, -201, -9, -226, -118, -19, -211, -217, -36, -195, -120, -86, -6, -213]}, '5ed0f04f-b5ca-4d23-9d3f-2ec2b8818db1_9': {'text': 'Everybody in Germany.', 'metadata': {}, 'binary_vector': [-46, -88, -120, -132, -246, -218, -202, -62, -150, -234, -229, -5, -163, -40, -203, -15, -127, -179, -170, -179, -6, -33, -201, -126, -172, -5, -194, -58, -40, -54, -218, -227, -186, -40, -241, -132, -235, -50, -3, -227, -94, -252, -29, -109, -170, -45, -220, -145, -142, -118, -129, -225, -67, -114, -120, -183, -210, -10, -36, -155, -256, -141, -52, -254]}, '5ed0f04f-b5ca-4d23-9d3f-2ec2b8818db1_10': {'text': 'Who is german and likes bread?', 'metadata': {}, 'binary_vector': [-41, -118, -100, -145, -214, -256, -198, -50, -142, -124, -197, -205, -147, -44, -251, -67, -215, -39, -156, -120, -41, -208, -223, -167, -10, -5, -94, -42, -48, -37, -11, -156, -21, -160, -229, -129, -27, -49, -84, -227, -108, -186, -153, -37, -138, -175, -252, -214, -176, -248, -193, -201, -9, -226, -118, -19, -211, -217, -36, -195, -120, -86, -6, -213]}, '5ed0f04f-b5ca-4d23-9d3f-2ec2b8818db1_11': {'text': 'Everybody in Germany.', 'metadata': {}, 'binary_vector': [-46, -88, -120, -132, -246, -218, -202, -62, -150, -234, -229, -5, -163, -40, -203, -15, -127, -179, -170, -179, -6, -33, -201, -126, -172, -5, -194, -58, -40, -54, -218, -227, -186, -40, -241, -132, -235, -50, -3, -227, -94, -252, -29, -109, -170, -45, -220, -145, -142, -118, -129, -225, -67, -114, -120, -183, -210, -10, -36, -155, -256, -141, -52, -254]}, '5ed0f04f-b5ca-4d23-9d3f-2ec2b8818db1_12': {'text': 'Who is german and likes bread?', 'metadata': {}, 'binary_vector': [-41, -118, -100, -145, -214, -256, -198, -50, -142, -124, -197, -205, -147, -44, -251, -67, -215, -39, -156, -120, -41, -208, -223, -167, -10, -5, -94, -42, -48, -37, -11, -156, -21, -160, -229, -129, -27, -49, -84, -227, -108, -186, -153, -37, -138, -175, -252, -214, -176, -248, -193, -201, -9, -226, -118, -19, -211, -217, -36, -195, -120, -86, -6, -213]}, '5ed0f04f-b5ca-4d23-9d3f-2ec2b8818db1_13': {'text': 'Everybody in Germany.', 'metadata': {}, 'binary_vector': [-46, -88, -120, -132, -246, -218, -202, -62, -150, -234, -229, -5, -163, -40, -203, -15, -127, -179, -170, -179, -6, -33, -201, -126, -172, -5, -194, -58, -40, -54, -218, -227, -186, -40, -241, -132, -235, -50, -3, -227, -94, -252, -29, -109, -170, -45, -220, -145, -142, -118, -129, -225, -67, -114, -120, -183, -210, -10, -36, -155, -256, -141, -52, -254]}, '5ed0f04f-b5ca-4d23-9d3f-2ec2b8818db1_14': {'text': 'Who is german and likes bread?', 'metadata': {}, 'binary_vector': [-41, -118, -100, -145, -214, -256, -198, -50, -142, -124, -197, -205, -147, -44, -251, -67, -215, -39, -156, -120, -41, -208, -223, -167, -10, -5, -94, -42, -48, -37, -11, -156, -21, -160, -229, -129, -27, -49, -84, -227, -108, -186, -153, -37, -138, -175, -252, -214, -176, -248, -193, -201, -9, -226, -118, -19, -211, -217, -36, -195, -120, -86, -6, -213]}, '5ed0f04f-b5ca-4d23-9d3f-2ec2b8818db1_15': {'text': 'Everybody in Germany.', 'metadata': {}, 'binary_vector': [-46, -88, -120, -132, -246, -218, -202, -62, -150, -234, -229, -5, -163, -40, -203, -15, -127, -179, -170, -179, -6, -33, -201, -126, -172, -5, -194, -58, -40, -54, -218, -227, -186, -40, -241, -132, -235, -50, -3, -227, -94, -252, -29, -109, -170, -45, -220, -145, -142, -118, -129, -225, -67, -114, -120, -183, -210, -10, -36, -155, -256, -141, -52, -254]}, '5ed0f04f-b5ca-4d23-9d3f-2ec2b8818db1_16': {'text': 'Who is german and likes bread?', 'metadata': {}, 'binary_vector': [-41, -118, -100, -145, -214, -256, -198, -50, -142, -124, -197, -205, -147, -44, -251, -67, -215, -39, -156, -120, -41, -208, -223, -167, -10, -5, -94, -42, -48, -37, -11, -156, -21, -160, -229, -129, -27, -49, -84, -227, -108, -186, -153, -37, -138, -175, -252, -214, -176, -248, -193, -201, -9, -226, -118, -19, -211, -217, -36, -195, -120, -86, -6, -213]}, '5ed0f04f-b5ca-4d23-9d3f-2ec2b8818db1_17': {'text': 'Everybody in Germany.', 'metadata': {}, 'binary_vector': [-46, -88, -120, -132, -246, -218, -202, -62, -150, -234, -229, -5, -163, -40, -203, -15, -127, -179, -170, -179, -6, -33, -201, -126, -172, -5, -194, -58, -40, -54, -218, -227, -186, -40, -241, -132, -235, -50, -3, -227, -94, -252, -29, -109, -170, -45, -220, -145, -142, -118, -129, -225, -67, -114, -120, -183, -210, -10, -36, -155, -256, -141, -52, -254]}, '5ed0f04f-b5ca-4d23-9d3f-2ec2b8818db1_18': {'text': 'Who is german and likes bread?', 'metadata': {}, 'binary_vector': [-41, -118, -100, -145, -214, -256, -198, -50, -142, -124, -197, -205, -147, -44, -251, -67, -215, -39, -156, -120, -41, -208, -223, -167, -10, -5, -94, -42, -48, -37, -11, -156, -21, -160, -229, -129, -27, -49, -84, -227, -108, -186, -153, -37, -138, -175, -252, -214, -176, -248, -193, -201, -9, -226, -118, -19, -211, -217, -36, -195, -120, -86, -6, -213]}, '5ed0f04f-b5ca-4d23-9d3f-2ec2b8818db1_19': {'text': 'Everybody in Germany.', 'metadata': {}, 'binary_vector': [-46, -88, -120, -132, -246, -218, -202, -62, -150, -234, -229, -5, -163, -40, -203, -15, -127, -179, -170, -179, -6, -33, -201, -126, -172, -5, -194, -58, -40, -54, -218, -227, -186, -40, -241, -132, -235, -50, -3, -227, -94, -252, -29, -109, -170, -45, -220, -145, -142, -118, -129, -225, -67, -114, -120, -183, -210, -10, -36, -155, -256, -141, -52, -254]}}\n",
      "end shape of binary_encoded_data (20, 64)\n",
      "here it is [ -41  -86 -104 -147 -214 -220 -133  -34   -6 -252 -133 -173 -147 -172\n",
      " -203  -71 -217  -39 -143 -248  -41  -79 -203 -231  -10   -5 -124  -42\n",
      "  -39   -6 -251 -148  -19  -64 -229 -162 -251  -18 -119 -227  -60 -188\n",
      " -129  -21 -138 -141 -236 -215  -48 -245 -193 -203  -27 -242  -70  -35\n",
      " -211 -213  -36 -212  -80  -86 -232 -215]\n",
      "in loop rank shape of binary_vector 64\n",
      "in loop rank shape of binary_vector 64\n",
      "in loop rank shape of binary_vector 64\n",
      "in loop rank shape of binary_vector 64\n",
      "in loop rank shape of binary_vector 64\n",
      "in loop rank shape of binary_vector 64\n",
      "in loop rank shape of binary_vector 64\n",
      "in loop rank shape of binary_vector 64\n",
      "in loop rank shape of binary_vector 64\n",
      "in loop rank shape of binary_vector 64\n",
      "in loop rank shape of binary_vector 64\n",
      "in loop rank shape of binary_vector 64\n",
      "in loop rank shape of binary_vector 64\n",
      "in loop rank shape of binary_vector 64\n",
      "in loop rank shape of binary_vector 64\n",
      "in loop rank shape of binary_vector 64\n",
      "in loop rank shape of binary_vector 64\n",
      "in loop rank shape of binary_vector 64\n",
      "in loop rank shape of binary_vector 64\n",
      "in loop rank shape of binary_vector 64\n"
     ]
    },
    {
     "data": {
      "text/plain": [
       "[('5ed0f04f-b5ca-4d23-9d3f-2ec2b8818db1_0',\n",
       "  'Who is german and likes bread?',\n",
       "  {}),\n",
       " ('5ed0f04f-b5ca-4d23-9d3f-2ec2b8818db1_2',\n",
       "  'Who is german and likes bread?',\n",
       "  {}),\n",
       " ('5ed0f04f-b5ca-4d23-9d3f-2ec2b8818db1_4',\n",
       "  'Who is german and likes bread?',\n",
       "  {}),\n",
       " ('5ed0f04f-b5ca-4d23-9d3f-2ec2b8818db1_6',\n",
       "  'Who is german and likes bread?',\n",
       "  {}),\n",
       " ('5ed0f04f-b5ca-4d23-9d3f-2ec2b8818db1_8',\n",
       "  'Who is german and likes bread?',\n",
       "  {})]"
      ]
     },
     "execution_count": 1,
     "metadata": {},
     "output_type": "execute_result"
    }
   ],
   "source": [
    "# import vlite from local path\n",
    "import sys\n",
    "sys.path.insert(0, '..')\n",
    "from vlite import VLite\n",
    "from vlite import EmbeddingModel\n",
    "from vlite.utils import process_file, process_pdf, process_webpage\n",
    "\n",
    "\n",
    "vdb = VLite(\"testing17\")\n",
    "vdb.add([\"Who is german and likes bread?\", \"Everybody in Germany.\"]*10)\n",
    "vdb.retrieve(\"german bread\")\n"
   ]
  },
  {
   "cell_type": "code",
   "execution_count": 2,
   "metadata": {},
   "outputs": [
    {
     "name": "stdout",
     "output_type": "stream",
     "text": [
      "welcome to VLite 7.1.2\n"
     ]
    },
    {
     "name": "stderr",
     "output_type": "stream",
     "text": [
      "huggingface/tokenizers: The current process just got forked, after parallelism has already been used. Disabling parallelism to avoid deadlocks...\n",
      "To disable this warning, you can either:\n",
      "\t- Avoid using `tokenizers` before the fork if possible\n",
      "\t- Explicitly set the environment variable TOKENIZERS_PARALLELISM=(true | false)\n"
     ]
    },
    {
     "name": "stdout",
     "output_type": "stream",
     "text": [
      "LOADING call\n",
      "[load] size of embeddings 64\n",
      "[load] size of embeddings 64\n",
      "[load] size of embeddings 64\n",
      "[load] size of embeddings 64\n",
      "[load] size of embeddings 64\n",
      "[load] size of embeddings 64\n",
      "[load] size of embeddings 64\n",
      "[load] size of embeddings 64\n",
      "[load] size of embeddings 64\n",
      "[load] size of embeddings 64\n",
      "[load] size of embeddings 64\n",
      "[load] size of embeddings 64\n",
      "[load] size of embeddings 64\n",
      "[load] size of embeddings 64\n",
      "[load] size of embeddings 64\n",
      "[load] size of embeddings 64\n",
      "[load] size of embeddings 64\n",
      "[load] size of embeddings 64\n",
      "[load] size of embeddings 64\n",
      "[load] size of embeddings 64\n",
      "Number of embeddings loaded:  20\n",
      "Number of metadata keys loaded:  20\n",
      "in loop rank shape of binary_vector 64\n",
      "here it is [-157 -139 -108  -19 -248 -157 -199  -34 -147  -99  -13  -77  -52 -111\n",
      " -132 -191 -147  -27 -171 -186 -172 -217 -137  -77  -12   -5  -90  -57\n",
      " -171   -2  -14 -168 -177  -32  -50 -200  -35  -58  -51 -100 -122 -250\n",
      "  -21 -124 -174 -149 -224 -213 -160 -241 -111 -249  -32 -242 -230 -189\n",
      "  -94  -22  -55 -243  -53 -176 -120  -47]\n",
      "in loop rank shape of binary_vector 64\n",
      "in loop rank shape of binary_vector 64\n",
      "in loop rank shape of binary_vector 64\n",
      "in loop rank shape of binary_vector 64\n",
      "in loop rank shape of binary_vector 64\n",
      "in loop rank shape of binary_vector 64\n",
      "in loop rank shape of binary_vector 64\n",
      "in loop rank shape of binary_vector 64\n",
      "in loop rank shape of binary_vector 64\n",
      "in loop rank shape of binary_vector 64\n",
      "in loop rank shape of binary_vector 64\n",
      "in loop rank shape of binary_vector 64\n",
      "in loop rank shape of binary_vector 64\n",
      "in loop rank shape of binary_vector 64\n",
      "in loop rank shape of binary_vector 64\n",
      "in loop rank shape of binary_vector 64\n",
      "in loop rank shape of binary_vector 64\n",
      "in loop rank shape of binary_vector 64\n",
      "in loop rank shape of binary_vector 64\n",
      "in loop rank shape of binary_vector 64\n"
     ]
    },
    {
     "ename": "TypeError",
     "evalue": "Cannot convert a MPS Tensor to float64 dtype as the MPS framework doesn't support float64. Please use float32 instead.",
     "output_type": "error",
     "traceback": [
      "\u001b[0;31m---------------------------------------------------------------------------\u001b[0m",
      "\u001b[0;31mTypeError\u001b[0m                                 Traceback (most recent call last)",
      "Cell \u001b[0;32mIn[2], line 6\u001b[0m\n\u001b[1;32m      4\u001b[0m \u001b[38;5;28;01mfrom\u001b[39;00m \u001b[38;5;21;01mvlite\u001b[39;00m \u001b[38;5;28;01mimport\u001b[39;00m VLite\n\u001b[1;32m      5\u001b[0m vdb \u001b[38;5;241m=\u001b[39m VLite(\u001b[38;5;124m\"\u001b[39m\u001b[38;5;124mtesting16\u001b[39m\u001b[38;5;124m\"\u001b[39m)\n\u001b[0;32m----> 6\u001b[0m \u001b[43mvdb\u001b[49m\u001b[38;5;241;43m.\u001b[39;49m\u001b[43mretrieve\u001b[49m\u001b[43m(\u001b[49m\u001b[38;5;124;43m\"\u001b[39;49m\u001b[38;5;124;43mhello world\u001b[39;49m\u001b[38;5;124;43m\"\u001b[39;49m\u001b[43m)\u001b[49m\n",
      "File \u001b[0;32m~/Developer/vlite/tests/../vlite/main.py:118\u001b[0m, in \u001b[0;36mVLite.retrieve\u001b[0;34m(self, text, top_k, metadata, return_scores)\u001b[0m\n\u001b[1;32m    116\u001b[0m results \u001b[38;5;241m=\u001b[39m []\n\u001b[1;32m    117\u001b[0m \u001b[38;5;28;01mfor\u001b[39;00m query_binary_vector \u001b[38;5;129;01min\u001b[39;00m query_binary_vectors:\n\u001b[0;32m--> 118\u001b[0m     chunk_results \u001b[38;5;241m=\u001b[39m \u001b[38;5;28;43mself\u001b[39;49m\u001b[38;5;241;43m.\u001b[39;49m\u001b[43mrank_and_filter\u001b[49m\u001b[43m(\u001b[49m\u001b[43mquery_binary_vector\u001b[49m\u001b[43m,\u001b[49m\u001b[43m \u001b[49m\u001b[43mtop_k\u001b[49m\u001b[43m,\u001b[49m\u001b[43m \u001b[49m\u001b[43mmetadata\u001b[49m\u001b[43m)\u001b[49m\n\u001b[1;32m    119\u001b[0m     results\u001b[38;5;241m.\u001b[39mextend(chunk_results)\n\u001b[1;32m    120\u001b[0m \u001b[38;5;66;03m# Sort the results by similarity score\u001b[39;00m\n",
      "File \u001b[0;32m~/Developer/vlite/tests/../vlite/main.py:157\u001b[0m, in \u001b[0;36mVLite.rank_and_filter\u001b[0;34m(self, query_binary_vector, top_k, metadata)\u001b[0m\n\u001b[1;32m    155\u001b[0m \u001b[38;5;28;01melse\u001b[39;00m:\n\u001b[1;32m    156\u001b[0m     \u001b[38;5;28;01mraise\u001b[39;00m \u001b[38;5;167;01mValueError\u001b[39;00m(\u001b[38;5;124m\"\u001b[39m\u001b[38;5;124mNo valid binary vectors found for comparison.\u001b[39m\u001b[38;5;124m\"\u001b[39m)\n\u001b[0;32m--> 157\u001b[0m top_k_indices, top_k_scores \u001b[38;5;241m=\u001b[39m \u001b[38;5;28;43mself\u001b[39;49m\u001b[38;5;241;43m.\u001b[39;49m\u001b[43mmodel\u001b[49m\u001b[38;5;241;43m.\u001b[39;49m\u001b[43msearch\u001b[49m\u001b[43m(\u001b[49m\u001b[43mquery_binary_vector\u001b[49m\u001b[43m,\u001b[49m\u001b[43m \u001b[49m\u001b[43mcorpus_binary_vectors\u001b[49m\u001b[43m,\u001b[49m\u001b[43m \u001b[49m\u001b[43mtop_k\u001b[49m\u001b[43m)\u001b[49m\n\u001b[1;32m    158\u001b[0m logger\u001b[38;5;241m.\u001b[39mdebug(\u001b[38;5;124mf\u001b[39m\u001b[38;5;124m\"\u001b[39m\u001b[38;5;124m[VLite.rank_and_filter] Top \u001b[39m\u001b[38;5;132;01m{\u001b[39;00mtop_k\u001b[38;5;132;01m}\u001b[39;00m\u001b[38;5;124m indices: \u001b[39m\u001b[38;5;132;01m{\u001b[39;00mtop_k_indices\u001b[38;5;132;01m}\u001b[39;00m\u001b[38;5;124m\"\u001b[39m)\n\u001b[1;32m    159\u001b[0m logger\u001b[38;5;241m.\u001b[39mdebug(\u001b[38;5;124mf\u001b[39m\u001b[38;5;124m\"\u001b[39m\u001b[38;5;124m[VLite.rank_and_filter] Top \u001b[39m\u001b[38;5;132;01m{\u001b[39;00mtop_k\u001b[38;5;132;01m}\u001b[39;00m\u001b[38;5;124m scores: \u001b[39m\u001b[38;5;132;01m{\u001b[39;00mtop_k_scores\u001b[38;5;132;01m}\u001b[39;00m\u001b[38;5;124m\"\u001b[39m)\n",
      "File \u001b[0;32m~/Developer/vlite/tests/../vlite/model.py:78\u001b[0m, in \u001b[0;36mEmbeddingModel.search\u001b[0;34m(self, query_embedding, embeddings, top_k)\u001b[0m\n\u001b[1;32m     76\u001b[0m \u001b[38;5;28;01mdef\u001b[39;00m \u001b[38;5;21msearch\u001b[39m(\u001b[38;5;28mself\u001b[39m, query_embedding, embeddings, top_k):\n\u001b[1;32m     77\u001b[0m     logger\u001b[38;5;241m.\u001b[39minfo(\u001b[38;5;124mf\u001b[39m\u001b[38;5;124m\"\u001b[39m\u001b[38;5;124m[EmbeddingModel.search] Searching for top \u001b[39m\u001b[38;5;132;01m{\u001b[39;00mtop_k\u001b[38;5;132;01m}\u001b[39;00m\u001b[38;5;124m similar embeddings\u001b[39m\u001b[38;5;124m\"\u001b[39m)\n\u001b[0;32m---> 78\u001b[0m     embeddings_tensor \u001b[38;5;241m=\u001b[39m \u001b[43mtorch\u001b[49m\u001b[38;5;241;43m.\u001b[39;49m\u001b[43mfrom_numpy\u001b[49m\u001b[43m(\u001b[49m\u001b[43membeddings\u001b[49m\u001b[43m)\u001b[49m\u001b[38;5;241;43m.\u001b[39;49m\u001b[43mto\u001b[49m\u001b[43m(\u001b[49m\u001b[38;5;28;43mself\u001b[39;49m\u001b[38;5;241;43m.\u001b[39;49m\u001b[43mdevice\u001b[49m\u001b[43m)\u001b[49m\n\u001b[1;32m     79\u001b[0m     query_embedding_tensor \u001b[38;5;241m=\u001b[39m torch\u001b[38;5;241m.\u001b[39mfrom_numpy(query_embedding)\u001b[38;5;241m.\u001b[39munsqueeze(\u001b[38;5;241m0\u001b[39m)\u001b[38;5;241m.\u001b[39mto(\u001b[38;5;28mself\u001b[39m\u001b[38;5;241m.\u001b[39mdevice)\n\u001b[1;32m     80\u001b[0m     distances \u001b[38;5;241m=\u001b[39m torch\u001b[38;5;241m.\u001b[39msum(query_embedding_tensor\u001b[38;5;241m.\u001b[39mint() \u001b[38;5;241m^\u001b[39m embeddings_tensor\u001b[38;5;241m.\u001b[39mint(), dim\u001b[38;5;241m=\u001b[39m\u001b[38;5;241m1\u001b[39m)\n",
      "\u001b[0;31mTypeError\u001b[0m: Cannot convert a MPS Tensor to float64 dtype as the MPS framework doesn't support float64. Please use float32 instead."
     ]
    }
   ],
   "source": [
    "# import vlite from local path\n",
    "import sys\n",
    "sys.path.insert(0, '..')\n",
    "from vlite import VLite\n",
    "vdb = VLite(\"testing17\")\n",
    "vdb.retrieve(\"hello world\")"
   ]
  },
  {
   "cell_type": "code",
   "execution_count": 3,
   "metadata": {},
   "outputs": [
    {
     "name": "stderr",
     "output_type": "stream",
     "text": [
      "huggingface/tokenizers: The current process just got forked, after parallelism has already been used. Disabling parallelism to avoid deadlocks...\n",
      "To disable this warning, you can either:\n",
      "\t- Avoid using `tokenizers` before the fork if possible\n",
      "\t- Explicitly set the environment variable TOKENIZERS_PARALLELISM=(true | false)\n"
     ]
    },
    {
     "name": "stdout",
     "output_type": "stream",
     "text": [
      "[('03bc72b6-5264-4754-80a3-d92e62bbb838_0', 'hello worldhello worldhello worldhello worldhello worldhello worldhello worldhello worldhello worldhello worldhello worldhello worldhello worldhello worldhello worldhello worldhello worldhello worldhello worldhello worldhello worldhello worldhello worldhello worldhello worldhello worldhello worldhello worldhello worldhello worldhello worldhello worldhello worldhello worldhello worldhello worldhello worldhello worldhello worldhello worldhello worldhello worldhello worldhello worldhello worldhello worldhello worldhello worldhello worldhello worldhello worldhello worldhello worldhello worldhello worldhello worldhello worldhello worldhello worldhello worldhello worldhello worldhello worldhello worldhello worldhello worldhello worldhello worldhello worldhello worldhello worldhello worldhello worldhello worldhello worldhello worldhello worldhello worldhello worldhello worldhello worldhello worldhello worldhello worldhello worldhello worldhello worldhello worldhello worldhello worldhello worldhello worldhello worldhello worldhello worldhello worldhello worldhello worldhello worldhello worldhello worldhello worldhello worldhello worldhello worldhello worldhello worldhello worldhello worldhello worldhello worldhello worldhello worldhello worldhello worldhello worldhello worldhello worldhello worldhello worldhello worldhello worldhello worldhello worldhello worldhello worldhello worldhello worldhello worldhello worldhello worldhello worldhello worldhello worldhello worldhello worldhello worldhello worldhello worldhello worldhello worldhello worldhello worldhello worldhello worldhello worldhello worldhello worldhello worldhello worldhello worldhello worldhello worldhello worldhello worldhello worldhello worldhello worldhello worldhello worldhello worldhello worldhello worldhello worldhello worldhello worldhello worldhello worldhello worldhello worldhello worldhello worldhello worldhello worldhello worldhello worldhello worldhello worldhello worldhello worldhello worldhello worldhello worldhello worldhello worldhello worldhello worldhello worldhello worldhello worldhello worldhello worldhello worldhello worldhello worldhello worldhello worldhello worldhello worldhello world', {'artist': 'adele'})]\n"
     ]
    }
   ],
   "source": [
    "import sys\n",
    "sys.path.insert(0, '..')\n",
    "from vlite import VLite\n",
    "from vlite.utils import process_pdf\n",
    "\n",
    "vdb = VLite()\n",
    "vdb.add(\"hello world\", metadata={\"artist\": \"adele\"})\n",
    "\n",
    "results = vdb.retrieve(\"how do transformers work?)\n",
    "print(results)"
   ]
  },
  {
   "cell_type": "code",
   "execution_count": null,
   "metadata": {},
   "outputs": [],
   "source": []
  }
 ],
 "metadata": {
  "kernelspec": {
   "display_name": "base",
   "language": "python",
   "name": "python3"
  },
  "language_info": {
   "codemirror_mode": {
    "name": "ipython",
    "version": 3
   },
   "file_extension": ".py",
   "mimetype": "text/x-python",
   "name": "python",
   "nbconvert_exporter": "python",
   "pygments_lexer": "ipython3",
   "version": "3.10.6"
  }
 },
 "nbformat": 4,
 "nbformat_minor": 2
}
